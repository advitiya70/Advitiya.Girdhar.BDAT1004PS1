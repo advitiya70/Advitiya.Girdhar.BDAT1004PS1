{
 "cells": [
  {
   "cell_type": "markdown",
   "id": "58bbb995",
   "metadata": {},
   "source": [
    "Question 1"
   ]
  },
  {
   "cell_type": "markdown",
   "id": "7b6e5f02",
   "metadata": {},
   "source": [
    "5 - Integer\n",
    "5.0 - Float\n",
    "5 > 1 - Boolean\n",
    "'5' - String\n",
    "5 * 2 - Interger\n",
    "'5' * 2 - String\n",
    "'5' * '2' - Can't Multiply. Type error\n",
    "5 / 2 - Float\n",
    "5 % 2 - Integer\n",
    "{5, 2, 1} - Set\n",
    "5 == 3 - Boolean\n",
    "Pi - Float"
   ]
  },
  {
   "cell_type": "markdown",
   "id": "88b5ede4",
   "metadata": {},
   "source": [
    "Question 2"
   ]
  },
  {
   "cell_type": "markdown",
   "id": "6ccb1af5",
   "metadata": {},
   "source": [
    "2a. "
   ]
  },
  {
   "cell_type": "code",
   "execution_count": 1,
   "id": "ab71be09",
   "metadata": {},
   "outputs": [
    {
     "data": {
      "text/plain": [
       "34"
      ]
     },
     "execution_count": 1,
     "metadata": {},
     "output_type": "execute_result"
    }
   ],
   "source": [
    "len('Supercalifragilisticexpialidocious')"
   ]
  },
  {
   "cell_type": "markdown",
   "id": "545a4636",
   "metadata": {},
   "source": [
    "2b."
   ]
  },
  {
   "cell_type": "code",
   "execution_count": 2,
   "id": "38d3bcd3",
   "metadata": {},
   "outputs": [
    {
     "data": {
      "text/plain": [
       "True"
      ]
     },
     "execution_count": 2,
     "metadata": {},
     "output_type": "execute_result"
    }
   ],
   "source": [
    "'ice' in 'Supercalifragilisticexpialidocious'"
   ]
  },
  {
   "cell_type": "markdown",
   "id": "b6046733",
   "metadata": {},
   "source": [
    "2c."
   ]
  },
  {
   "cell_type": "code",
   "execution_count": 3,
   "id": "9a0d01fb",
   "metadata": {},
   "outputs": [
    {
     "name": "stdout",
     "output_type": "stream",
     "text": [
      "Supercalifragilisticexpialidocious and Bababadalgharaghtakamminarronnkonn are equal\n"
     ]
    }
   ],
   "source": [
    "a = len('Supercalifragilisticexpialidocious')\n",
    "b = len('Honorificabilitudinitatibus')\n",
    "c = len('Bababadalgharaghtakamminarronnkonn')\n",
    "\n",
    "if (a>b and a>c): \n",
    "\tprint('Supercalifragilisticexpialidocious is longest')\n",
    "\n",
    "elif(b>a and b>c):\n",
    "\tprint('Honorificabilitudinitatibus is longest')\n",
    "    \n",
    "elif(c>a and c>b):\n",
    "\tprint('Bababadalgharaghtakamminarronnkonn is longest')\n",
    "    \n",
    "elif(a==b):\n",
    "\tprint('Supercalifragilisticexpialidocious and Honorificabilitudinitatibus are equal')\n",
    "\n",
    "elif(b==c):\n",
    "\tprint('Honorificabilitudinitatibus and Bababadalgharaghtakamminarronnkonn are equal')\n",
    "\n",
    "else:\n",
    "\tprint('Supercalifragilisticexpialidocious and Bababadalgharaghtakamminarronnkonn are equal')\n"
   ]
  },
  {
   "cell_type": "markdown",
   "id": "a61474e8",
   "metadata": {},
   "source": [
    "2d."
   ]
  },
  {
   "cell_type": "code",
   "execution_count": 4,
   "id": "41403ce3",
   "metadata": {
    "scrolled": false
   },
   "outputs": [
    {
     "name": "stdout",
     "output_type": "stream",
     "text": [
      "{'Berlioz', 'Bartok', 'Borodin', 'Buxtehude', 'Brian', 'Bellini', 'Bernstein'}\n"
     ]
    }
   ],
   "source": [
    "#There is no specific order of items in dictionary. It is unpredictable\n",
    "\n",
    "ABC = {'Berlioz', 'Borodin', 'Brian',\n",
    "'Bartok', 'Bellini', 'Buxtehude', 'Bernstein'}\n",
    "print(ABC)"
   ]
  },
  {
   "cell_type": "markdown",
   "id": "1d60064a",
   "metadata": {},
   "source": [
    "Question 3"
   ]
  },
  {
   "cell_type": "code",
   "execution_count": 5,
   "id": "cc94e5ab",
   "metadata": {},
   "outputs": [
    {
     "name": "stdout",
     "output_type": "stream",
     "text": [
      "The Area of a triangle is 1.73\n"
     ]
    }
   ],
   "source": [
    "import math\n",
    "def triangleArea(a, b, c):\n",
    "\n",
    "    \n",
    "    s = (a + b + c) / 2\n",
    "    Area = math.sqrt((s*(s-a)*(s-b)*(s-c)))\n",
    "    \n",
    "    \n",
    "    print(\"The Area of a triangle is %0.2f\" %Area)\n",
    "    \n",
    "triangleArea(2, 2, 2)"
   ]
  },
  {
   "cell_type": "markdown",
   "id": "39093274",
   "metadata": {},
   "source": [
    "Question 4"
   ]
  },
  {
   "cell_type": "code",
   "execution_count": 5,
   "id": "db09bc3c",
   "metadata": {},
   "outputs": [
    {
     "name": "stdout",
     "output_type": "stream",
     "text": [
      "Enter the number of elements to be stored in the array 5\n",
      "Enter the Numbers of the array:\n",
      "7\n",
      "21\n",
      "22\n",
      "46\n",
      "78\n",
      "\n",
      "Odd numbers are:\n",
      "7 21 \n",
      "Even numbers are:\n",
      "22 46 78 "
     ]
    }
   ],
   "source": [
    "array1=[]\n",
    "size = int(input(\"Enter the number of elements to be stored in the array \"))\n",
    "print(\"Enter the Numbers of the array:\")\n",
    "for i in range(0,size):\n",
    "    num = int(input())\n",
    "    array1.append(num)\n",
    "print(\"\\nOdd numbers are:\")\n",
    "for i in range(0,size):\n",
    "    if (array1[i] % 2 != 0):\n",
    "        print(array1[i],end=\" \")\n",
    "\n",
    "print(\"\\nEven numbers are:\")\n",
    "for i in range(0,size):\n",
    "    if (array1[i] % 2 == 0):\n",
    "        print(array1[i],end=\" \")"
   ]
  },
  {
   "cell_type": "markdown",
   "id": "ccb21a75",
   "metadata": {},
   "source": [
    "Question 5 "
   ]
  },
  {
   "cell_type": "code",
   "execution_count": null,
   "id": "00f9f2fe",
   "metadata": {},
   "outputs": [],
   "source": []
  },
  {
   "cell_type": "markdown",
   "id": "8b2092f6",
   "metadata": {},
   "source": [
    "Question 6\n"
   ]
  },
  {
   "cell_type": "code",
   "execution_count": 7,
   "id": "8011583c",
   "metadata": {},
   "outputs": [
    {
     "name": "stdout",
     "output_type": "stream",
     "text": [
      "oyjay\n",
      "alohaway\n"
     ]
    }
   ],
   "source": [
    "def pig(x):\n",
    "    x=x.lower()\n",
    "    if (x[0] == 'a' or x[0]=='e' or x[0]=='i' or x[0]=='o' or x[0]=='u'):    #To know if the first letter is Vowel\n",
    "        latinpig=x+\"way\"\n",
    "        print(latinpig)\n",
    "    else:\n",
    "        latinpig=x[1:] + x[0] + \"ay\"\n",
    "        print(latinpig)\n",
    "pig('joy')\n",
    "pig('Aloha')"
   ]
  },
  {
   "cell_type": "markdown",
   "id": "1e2e18e0",
   "metadata": {},
   "source": [
    "Question 7\n"
   ]
  },
  {
   "cell_type": "code",
   "execution_count": 10,
   "id": "ad8c0316",
   "metadata": {},
   "outputs": [
    {
     "name": "stdout",
     "output_type": "stream",
     "text": [
      "There are 16 paitents of blood type A\n",
      "There are 2 paitents of blood type B\n",
      "There are 14 paitents of blood type AB\n",
      "There are 16 paitents of blood type O\n",
      "there are no patients of blood type OO\n"
     ]
    }
   ],
   "source": [
    "def bldcount(b):\n",
    "    file = open(b)\n",
    "\n",
    "    name = file.read()\n",
    "    file.close()\n",
    "    name =name.split()                           #a.split(sep) - splits a string into a list., delimited by sep\n",
    "    BG= ['A','B','AB','O','OO']\n",
    "    for i in BG:\n",
    "        if name.count(i)==0:                         #a.count(target) - number of occurences of target in s\n",
    "            print(\"there are no patients of blood type\",i)\n",
    "        elif name.count(i)==1:\n",
    "            print(\"there is one patient of blood type\",i)\n",
    "        else:\n",
    "            print(\"There are\",name.count(i),\"paitents of blood type\",i)\n",
    "    \n",
    "bldcount(\"bloodtype1.txt\")"
   ]
  },
  {
   "cell_type": "markdown",
   "id": "67e1e79b",
   "metadata": {},
   "source": [
    "Question 8"
   ]
  },
  {
   "cell_type": "code",
   "execution_count": 15,
   "id": "b2d65f27",
   "metadata": {},
   "outputs": [
    {
     "name": "stdout",
     "output_type": "stream",
     "text": [
      "400.17955\n",
      "8.88215\n"
     ]
    }
   ],
   "source": [
    "def curconv(curr,amt):\n",
    "    file=open('currencies.txt','r')\n",
    "    X=file.readlines()\n",
    "    file.close()\n",
    "    for i in X:\n",
    "        if curr ==i.split()[0]:\n",
    "            return float(i.split()[1])*amt\n",
    "print(curconv('NZD',500))\n",
    "print(curconv('INR',500))"
   ]
  },
  {
   "cell_type": "markdown",
   "id": "2395e423",
   "metadata": {},
   "source": [
    "Question 9\n"
   ]
  },
  {
   "cell_type": "code",
   "execution_count": 16,
   "id": "7f899c17",
   "metadata": {},
   "outputs": [
    {
     "ename": "TypeError",
     "evalue": "unsupported operand type(s) for +: 'int' and 'str'",
     "output_type": "error",
     "traceback": [
      "\u001b[1;31m---------------------------------------------------------------------------\u001b[0m",
      "\u001b[1;31mTypeError\u001b[0m                                 Traceback (most recent call last)",
      "Input \u001b[1;32mIn [16]\u001b[0m, in \u001b[0;36m<cell line: 1>\u001b[1;34m()\u001b[0m\n\u001b[1;32m----> 1\u001b[0m \u001b[38;5;241;43m6\u001b[39;49m\u001b[43m \u001b[49m\u001b[38;5;241;43m+\u001b[39;49m\u001b[38;5;124;43m'\u001b[39;49m\u001b[38;5;124;43ma\u001b[39;49m\u001b[38;5;124;43m'\u001b[39;49m\n",
      "\u001b[1;31mTypeError\u001b[0m: unsupported operand type(s) for +: 'int' and 'str'"
     ]
    }
   ],
   "source": [
    "6 +'a'"
   ]
  },
  {
   "cell_type": "code",
   "execution_count": 17,
   "id": "f33e0101",
   "metadata": {},
   "outputs": [
    {
     "ename": "IndexError",
     "evalue": "list index out of range",
     "output_type": "error",
     "traceback": [
      "\u001b[1;31m---------------------------------------------------------------------------\u001b[0m",
      "\u001b[1;31mIndexError\u001b[0m                                Traceback (most recent call last)",
      "Input \u001b[1;32mIn [17]\u001b[0m, in \u001b[0;36m<cell line: 2>\u001b[1;34m()\u001b[0m\n\u001b[0;32m      1\u001b[0m lists \u001b[38;5;241m=\u001b[39m [\u001b[38;5;241m3\u001b[39m,\u001b[38;5;241m7\u001b[39m,\u001b[38;5;241m11\u001b[39m,\u001b[38;5;241m17\u001b[39m,\u001b[38;5;241m23\u001b[39m,\u001b[38;5;241m35\u001b[39m,\u001b[38;5;241m45\u001b[39m,\u001b[38;5;241m70\u001b[39m,\u001b[38;5;241m88\u001b[39m,\u001b[38;5;241m98\u001b[39m]\n\u001b[1;32m----> 2\u001b[0m \u001b[38;5;28mprint\u001b[39m(\u001b[43mlists\u001b[49m\u001b[43m[\u001b[49m\u001b[38;5;241;43m12\u001b[39;49m\u001b[43m]\u001b[49m)\n",
      "\u001b[1;31mIndexError\u001b[0m: list index out of range"
     ]
    }
   ],
   "source": [
    "lists = [3,7,11,17,23,35,45,70,88,98]\n",
    "print(lists[12])"
   ]
  },
  {
   "cell_type": "code",
   "execution_count": 18,
   "id": "f3db987f",
   "metadata": {},
   "outputs": [
    {
     "ename": "ValueError",
     "evalue": "math domain error",
     "output_type": "error",
     "traceback": [
      "\u001b[1;31m---------------------------------------------------------------------------\u001b[0m",
      "\u001b[1;31mValueError\u001b[0m                                Traceback (most recent call last)",
      "Input \u001b[1;32mIn [18]\u001b[0m, in \u001b[0;36m<cell line: 2>\u001b[1;34m()\u001b[0m\n\u001b[0;32m      1\u001b[0m \u001b[38;5;28;01mimport\u001b[39;00m \u001b[38;5;21;01mmath\u001b[39;00m\n\u001b[1;32m----> 2\u001b[0m \u001b[38;5;28mprint\u001b[39m(\u001b[43mmath\u001b[49m\u001b[38;5;241;43m.\u001b[39;49m\u001b[43msqrt\u001b[49m\u001b[43m(\u001b[49m\u001b[38;5;241;43m-\u001b[39;49m\u001b[38;5;241;43m1.0\u001b[39;49m\u001b[43m)\u001b[49m)\n",
      "\u001b[1;31mValueError\u001b[0m: math domain error"
     ]
    }
   ],
   "source": [
    "import math\n",
    "print(math.sqrt(-1.0))"
   ]
  },
  {
   "cell_type": "code",
   "execution_count": 19,
   "id": "5d9dfeed",
   "metadata": {},
   "outputs": [
    {
     "ename": "NameError",
     "evalue": "name 'x' is not defined",
     "output_type": "error",
     "traceback": [
      "\u001b[1;31m---------------------------------------------------------------------------\u001b[0m",
      "\u001b[1;31mNameError\u001b[0m                                 Traceback (most recent call last)",
      "Input \u001b[1;32mIn [19]\u001b[0m, in \u001b[0;36m<cell line: 1>\u001b[1;34m()\u001b[0m\n\u001b[1;32m----> 1\u001b[0m \u001b[38;5;28mprint\u001b[39m(\u001b[43mx\u001b[49m)\n",
      "\u001b[1;31mNameError\u001b[0m: name 'x' is not defined"
     ]
    }
   ],
   "source": [
    "print(x)"
   ]
  },
  {
   "cell_type": "code",
   "execution_count": 20,
   "id": "10d9ac10",
   "metadata": {},
   "outputs": [
    {
     "ename": "FileNotFoundError",
     "evalue": "[Errno 2] No such file or directory: 'Mani.txt'",
     "output_type": "error",
     "traceback": [
      "\u001b[1;31m---------------------------------------------------------------------------\u001b[0m",
      "\u001b[1;31mFileNotFoundError\u001b[0m                         Traceback (most recent call last)",
      "Input \u001b[1;32mIn [20]\u001b[0m, in \u001b[0;36m<cell line: 1>\u001b[1;34m()\u001b[0m\n\u001b[1;32m----> 1\u001b[0m \u001b[38;5;28;43mopen\u001b[39;49m\u001b[43m(\u001b[49m\u001b[38;5;124;43m'\u001b[39;49m\u001b[38;5;124;43mMani.txt\u001b[39;49m\u001b[38;5;124;43m'\u001b[39;49m\u001b[43m)\u001b[49m\n",
      "\u001b[1;31mFileNotFoundError\u001b[0m: [Errno 2] No such file or directory: 'Mani.txt'"
     ]
    }
   ],
   "source": [
    "open('Mani.txt')"
   ]
  },
  {
   "cell_type": "markdown",
   "id": "e09002ab",
   "metadata": {},
   "source": [
    "Question 10\n"
   ]
  },
  {
   "cell_type": "code",
   "execution_count": 23,
   "id": "e16432f1",
   "metadata": {},
   "outputs": [
    {
     "name": "stdout",
     "output_type": "stream",
     "text": [
      "[0, 0, 1, 2, 3, 0, 1, 3, 2, 0, 0, 1, 1, 1, 4, 0, 0, 2, 2, 1, 1, 0, 1, 0, 0, 0]\n",
      "[0, 0, 1, 0, 0, 0, 0, 0, 1, 0, 0, 0, 1, 0, 0, 0, 0, 0, 1, 0, 1, 0, 0, 0, 0, 0]\n"
     ]
    }
   ],
   "source": [
    "def frequencies(Strings):\n",
    "    count=0\n",
    "    letters='abcdefghijklmnopqrstuvwxyz'\n",
    "    newstrings=[]\n",
    "    for a in letters:\n",
    "        for b in Strings:\n",
    "            if a==b:\n",
    "                count=count+1\n",
    "        newstrings.append(count)\n",
    "        count=0\n",
    "    print(newstrings)\n",
    "frequencies('There is so much good in the world. ')\n",
    "frequencies('music')"
   ]
  }
 ],
 "metadata": {
  "kernelspec": {
   "display_name": "Python 3 (ipykernel)",
   "language": "python",
   "name": "python3"
  },
  "language_info": {
   "codemirror_mode": {
    "name": "ipython",
    "version": 3
   },
   "file_extension": ".py",
   "mimetype": "text/x-python",
   "name": "python",
   "nbconvert_exporter": "python",
   "pygments_lexer": "ipython3",
   "version": "3.9.12"
  }
 },
 "nbformat": 4,
 "nbformat_minor": 5
}
